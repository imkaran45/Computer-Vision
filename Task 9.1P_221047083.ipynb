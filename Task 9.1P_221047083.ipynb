{
 "cells": [
  {
   "cell_type": "code",
   "execution_count": 1,
   "id": "afb790a5",
   "metadata": {},
   "outputs": [],
   "source": [
    "from ibm_watson import SpeechToTextV1\n",
    "from ibm_cloud_sdk_core.authenticators import IAMAuthenticator\n",
    "import json\n",
    "import glob\n",
    "import os \n",
    "os.chdir(\"UsSpeechtoTextData/\")"
   ]
  },
  {
   "cell_type": "code",
   "execution_count": 2,
   "id": "fc502f2e",
   "metadata": {},
   "outputs": [],
   "source": [
    "authenticator = IAMAuthenticator('ZFjWmsExgoheH2OCgduSNI9n3EdY4waLSnNLcmcDP8z8') #replace {APIkey} by your API key\n",
    "speech_to_text = SpeechToTextV1(authenticator=authenticator)\n",
    "speech_to_text.set_service_url('https://api.au-syd.speech-to-text.watson.cloud.ibm.com/instances/7e63a435-258f-48c3-89bb-697e815ed54d')"
   ]
  },
  {
   "cell_type": "code",
   "execution_count": 3,
   "id": "f53c399c",
   "metadata": {},
   "outputs": [
    {
     "name": "stdout",
     "output_type": "stream",
     "text": [
      "{\n",
      "  \"result_index\": 0,\n",
      "  \"results\": [\n",
      "    {\n",
      "      \"final\": true,\n",
      "      \"alternatives\": [\n",
      "        {\n",
      "          \"transcript\": \"will we ever forget it \",\n",
      "          \"confidence\": 0.95\n",
      "        }\n",
      "      ]\n",
      "    }\n",
      "  ]\n",
      "}\n"
     ]
    }
   ],
   "source": [
    "with open('arctic_a0005.wav', 'rb') as audio_file:\n",
    "    speech_recognition_results = speech_to_text.recognize(\n",
    "    audio = audio_file,\n",
    "    content_type = 'audio/wav').get_result()\n",
    "\n",
    "print(json.dumps(speech_recognition_results, indent = 2))"
   ]
  },
  {
   "cell_type": "code",
   "execution_count": 4,
   "id": "51f38ea9",
   "metadata": {},
   "outputs": [],
   "source": [
    "with open('arctic_a0005.json', 'w') as outfile:\n",
    "    json.dump(speech_recognition_results, outfile)"
   ]
  },
  {
   "cell_type": "code",
   "execution_count": 5,
   "id": "6762cf8b",
   "metadata": {},
   "outputs": [
    {
     "name": "stdout",
     "output_type": "stream",
     "text": [
      "{'result_index': 0, 'results': [{'final': True, 'alternatives': [{'transcript': 'will we ever forget it ', 'confidence': 0.95}]}]}\n"
     ]
    }
   ],
   "source": [
    "with open('arctic_a0005.json') as infile:\n",
    "    data = json.load(infile) # load data from a json file\n",
    "print(data)"
   ]
  },
  {
   "cell_type": "code",
   "execution_count": 6,
   "id": "f7056799",
   "metadata": {},
   "outputs": [
    {
     "data": {
      "text/plain": [
       "['p232_030.wav',\n",
       " 'p232_009.wav',\n",
       " 'p232_010.wav',\n",
       " 'p232_014.wav',\n",
       " 'arctic_a0005.wav',\n",
       " 'arctic_a0001.wav',\n",
       " 'arctic_a0003.wav']"
      ]
     },
     "execution_count": 6,
     "metadata": {},
     "output_type": "execute_result"
    }
   ],
   "source": [
    "all_files = glob.glob('*.wav')\n",
    "all_files"
   ]
  },
  {
   "cell_type": "code",
   "execution_count": 7,
   "id": "ff4a7f2e",
   "metadata": {},
   "outputs": [
    {
     "data": {
      "text/plain": [
       "['p232_030',\n",
       " 'p232_009',\n",
       " 'p232_010',\n",
       " 'p232_014',\n",
       " 'arctic_a0005',\n",
       " 'arctic_a0001',\n",
       " 'arctic_a0003']"
      ]
     },
     "execution_count": 7,
     "metadata": {},
     "output_type": "execute_result"
    }
   ],
   "source": [
    "#Getting file names without \n",
    "new_item = []\n",
    "for item in all_files:\n",
    "    new_item.extend(item.split(\".\"))\n",
    "filenames = list(filter((\"wav\").__ne__, new_item))\n",
    "filenames"
   ]
  },
  {
   "cell_type": "code",
   "execution_count": 8,
   "id": "75979b34",
   "metadata": {},
   "outputs": [
    {
     "name": "stdout",
     "output_type": "stream",
     "text": [
      "------------------------------------------------------------\n",
      "Results for : p232_030.wav\n",
      "------------------------------------------------------------\n",
      "{'result_index': 0, 'results': [{'final': True, 'alternatives': [{'transcript': 'they were described as being in a serious but stable condition yesterday ', 'confidence': 0.94}]}]}\n",
      "------------------------------------------------------------\n",
      "Results for : p232_009.wav\n",
      "------------------------------------------------------------\n",
      "{'result_index': 0, 'results': [{'final': True, 'alternatives': [{'transcript': 'there is according to legend a boiling pot of gold at one end ', 'confidence': 0.98}]}]}\n",
      "------------------------------------------------------------\n",
      "Results for : p232_010.wav\n",
      "------------------------------------------------------------\n",
      "{'result_index': 0, 'results': [{'final': True, 'alternatives': [{'transcript': 'no one ever finds ', 'confidence': 0.19}]}]}\n",
      "------------------------------------------------------------\n",
      "Results for : p232_014.wav\n",
      "------------------------------------------------------------\n",
      "{'result_index': 0, 'results': [{'final': True, 'alternatives': [{'transcript': 'the Hebrews it was a token that there would be no more universal floods ', 'confidence': 0.92}]}]}\n",
      "------------------------------------------------------------\n",
      "Results for : arctic_a0005.wav\n",
      "------------------------------------------------------------\n",
      "{'result_index': 0, 'results': [{'final': True, 'alternatives': [{'transcript': 'will we ever forget it ', 'confidence': 0.95}]}]}\n",
      "------------------------------------------------------------\n",
      "Results for : arctic_a0001.wav\n",
      "------------------------------------------------------------\n",
      "{'result_index': 0, 'results': [{'final': True, 'alternatives': [{'transcript': 'author of the danger trail Phillips steals etcetera ', 'confidence': 0.78}]}]}\n",
      "------------------------------------------------------------\n",
      "Results for : arctic_a0003.wav\n",
      "------------------------------------------------------------\n",
      "{'result_index': 0, 'results': [{'final': True, 'alternatives': [{'transcript': 'for the twentieth time that evening the two men shook hands ', 'confidence': 0.86}]}]}\n"
     ]
    }
   ],
   "source": [
    "for i in range(len(all_files)):\n",
    "    \n",
    "    with open(all_files[i], 'rb') as audio_file:\n",
    "        speech_recognition_results = speech_to_text.recognize(\n",
    "        audio = audio_file,\n",
    "        content_type = 'audio/wav').get_result()\n",
    "\n",
    "    with open(filenames[i] + \".json\", 'w') as outfile:\n",
    "        json.dump(speech_recognition_results, outfile)\n",
    "\n",
    "    with open(filenames[i] + \".json\") as infile:\n",
    "        data = json.load(infile)\n",
    "    print('------------------------------------------------------------')\n",
    "    print('Results for :', all_files[i])\n",
    "    print('------------------------------------------------------------')\n",
    "    print(data)"
   ]
  },
  {
   "cell_type": "code",
   "execution_count": null,
   "id": "03ae2272",
   "metadata": {},
   "outputs": [],
   "source": []
  }
 ],
 "metadata": {
  "kernelspec": {
   "display_name": "Python 3",
   "language": "python",
   "name": "python3"
  },
  "language_info": {
   "codemirror_mode": {
    "name": "ipython",
    "version": 3
   },
   "file_extension": ".py",
   "mimetype": "text/x-python",
   "name": "python",
   "nbconvert_exporter": "python",
   "pygments_lexer": "ipython3",
   "version": "3.8.8"
  }
 },
 "nbformat": 4,
 "nbformat_minor": 5
}
